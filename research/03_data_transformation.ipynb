{
 "cells": [
  {
   "cell_type": "code",
   "execution_count": 1,
   "metadata": {},
   "outputs": [],
   "source": [
    "import os"
   ]
  },
  {
   "cell_type": "code",
   "execution_count": 2,
   "metadata": {},
   "outputs": [
    {
     "data": {
      "text/plain": [
       "'c:\\\\Project\\\\Insurance-ml-Project\\\\research'"
      ]
     },
     "execution_count": 2,
     "metadata": {},
     "output_type": "execute_result"
    }
   ],
   "source": [
    "%pwd"
   ]
  },
  {
   "cell_type": "code",
   "execution_count": 3,
   "metadata": {},
   "outputs": [],
   "source": [
    "os.chdir(\"../\")\n"
   ]
  },
  {
   "cell_type": "code",
   "execution_count": 4,
   "metadata": {},
   "outputs": [
    {
     "data": {
      "text/plain": [
       "'c:\\\\Project\\\\Insurance-ml-Project'"
      ]
     },
     "execution_count": 4,
     "metadata": {},
     "output_type": "execute_result"
    }
   ],
   "source": [
    "%pwd"
   ]
  },
  {
   "cell_type": "code",
   "execution_count": 5,
   "metadata": {},
   "outputs": [],
   "source": [
    "from dataclasses import dataclass\n",
    "from pathlib import Path\n",
    "\n",
    "\n",
    "@dataclass(frozen=True)\n",
    "class DataTransformationConfig:\n",
    "    root_dir: Path\n",
    "    data_path: Path"
   ]
  },
  {
   "cell_type": "code",
   "execution_count": 6,
   "metadata": {},
   "outputs": [],
   "source": [
    "\n",
    "from src.mlProject.constants import *\n",
    "from src.mlProject.utils.common import read_yaml, create_directories"
   ]
  },
  {
   "cell_type": "code",
   "execution_count": 7,
   "metadata": {},
   "outputs": [],
   "source": [
    "class ConfigurationManager:\n",
    "    def __init__(\n",
    "        self,\n",
    "        config_filepath = CONFIG_FILE_PATH,\n",
    "        params_filepath = PARAMS_FILE_PATH,\n",
    "        schema_filepath = SCHEMA_FILE_PATH):\n",
    "\n",
    "        self.config = read_yaml(config_filepath)\n",
    "        self.params = read_yaml(params_filepath)\n",
    "        self.schema = read_yaml(schema_filepath)\n",
    "\n",
    "        create_directories([self.config.artifacts_root])\n",
    "\n",
    "    \n",
    "    def get_data_transformation_config(self) -> DataTransformationConfig:\n",
    "        config = self.config.data_transformation\n",
    "\n",
    "        create_directories([config.root_dir])\n",
    "\n",
    "        data_transformation_config = DataTransformationConfig(\n",
    "            root_dir=config.root_dir,\n",
    "            data_path=config.data_path,\n",
    "        )\n",
    "\n",
    "        return data_transformation_config"
   ]
  },
  {
   "cell_type": "code",
   "execution_count": 8,
   "metadata": {},
   "outputs": [],
   "source": [
    "import os\n",
    "from src.mlProject.logging import logger\n",
    "from sklearn.model_selection import train_test_split\n",
    "import pandas as pd"
   ]
  },
  {
   "cell_type": "code",
   "execution_count": 9,
   "metadata": {},
   "outputs": [],
   "source": [
    "import pandas as pd\n",
    "from sklearn.model_selection import train_test_split\n",
    "from sklearn.preprocessing import OneHotEncoder\n",
    "import os\n",
    "\n",
    "class DataTransformation:\n",
    "    def __init__(self, config: DataTransformationConfig):\n",
    "        self.config = config\n",
    "\n",
    "    def train_test_spliting(self):\n",
    "        data = pd.read_csv(self.config.data_path)\n",
    "\n",
    "        data.dropna(inplace=True)\n",
    "\n",
    "        categorical_cols = ['sex', 'smoker', 'region']\n",
    "        data_encoded = pd.get_dummies(data, columns=categorical_cols, drop_first=True)\n",
    "\n",
    "        X = data_encoded.drop('expenses', axis=1)\n",
    "        y = data_encoded['expenses']\n",
    "\n",
    "        X_train, X_test, y_train, y_test = train_test_split(X, y, test_size=0.25, random_state=42)\n",
    "\n",
    "        train_data = pd.concat([X_train, y_train], axis=1)\n",
    "        test_data = pd.concat([X_test, y_test], axis=1)\n",
    "        \n",
    "        train_data.to_csv(os.path.join(self.config.root_dir, \"train.csv\"), index=False)\n",
    "        test_data.to_csv(os.path.join(self.config.root_dir, \"test.csv\"), index=False)\n",
    "\n",
    "        logger.info(\"Splitted data into training and test sets\")\n",
    "        logger.info(f\"Training data shape: {train_data.shape}\")\n",
    "        logger.info(f\"Test data shape: {test_data.shape}\")\n",
    "\n",
    "        print(\"Training data shape:\", train_data.shape)\n",
    "        print(\"Test data shape:\", test_data.shape)"
   ]
  },
  {
   "cell_type": "code",
   "execution_count": 10,
   "metadata": {},
   "outputs": [
    {
     "name": "stdout",
     "output_type": "stream",
     "text": [
      "[2024-03-13 18:35:48,812: INFO: common: yaml file: config\\config.yaml loaded successfully]\n",
      "[2024-03-13 18:35:48,839: INFO: common: yaml file: params.yaml loaded successfully]\n",
      "[2024-03-13 18:35:48,848: INFO: common: yaml file: schema.yaml loaded successfully]\n",
      "[2024-03-13 18:35:48,852: INFO: common: created directory at: artifacts]\n",
      "[2024-03-13 18:35:48,855: INFO: common: created directory at: artifacts/data_transformation]\n"
     ]
    },
    {
     "name": "stdout",
     "output_type": "stream",
     "text": [
      "[2024-03-13 18:35:48,945: INFO: 3864523879: Splitted data into training and test sets]\n",
      "[2024-03-13 18:35:48,945: INFO: 3864523879: Training data shape: (1003, 9)]\n",
      "[2024-03-13 18:35:48,945: INFO: 3864523879: Test data shape: (335, 9)]\n",
      "Training data shape: (1003, 9)\n",
      "Test data shape: (335, 9)\n"
     ]
    }
   ],
   "source": [
    "try:\n",
    "    config = ConfigurationManager()\n",
    "    data_transformation_config = config.get_data_transformation_config()\n",
    "    data_transformation = DataTransformation(config=data_transformation_config)\n",
    "    data_transformation.train_test_spliting()\n",
    "except Exception as e:\n",
    "    print(e) "
   ]
  },
  {
   "cell_type": "code",
   "execution_count": 21,
   "metadata": {},
   "outputs": [
    {
     "name": "stdout",
     "output_type": "stream",
     "text": [
      "   age     bmi  children  sex_male  smoker_yes  region_northwest  \\\n",
      "0   24  23.655         0      True       False              True   \n",
      "1   28  26.510         2     False       False             False   \n",
      "2   51  39.700         1      True       False             False   \n",
      "3   47  36.080         1      True        True             False   \n",
      "4   46  28.900         2     False       False             False   \n",
      "\n",
      "   region_southeast  region_southwest     expenses  \n",
      "0             False             False   2352.96845  \n",
      "1              True             False   4340.44090  \n",
      "2             False              True   9391.34600  \n",
      "3              True             False  42211.13820  \n",
      "4             False              True   8823.27900  \n",
      "<class 'pandas.core.frame.DataFrame'>\n",
      "RangeIndex: 1003 entries, 0 to 1002\n",
      "Data columns (total 9 columns):\n",
      " #   Column            Non-Null Count  Dtype  \n",
      "---  ------            --------------  -----  \n",
      " 0   age               1003 non-null   int64  \n",
      " 1   bmi               1003 non-null   float64\n",
      " 2   children          1003 non-null   int64  \n",
      " 3   sex_male          1003 non-null   bool   \n",
      " 4   smoker_yes        1003 non-null   bool   \n",
      " 5   region_northwest  1003 non-null   bool   \n",
      " 6   region_southeast  1003 non-null   bool   \n",
      " 7   region_southwest  1003 non-null   bool   \n",
      " 8   expenses          1003 non-null   float64\n",
      "dtypes: bool(5), float64(2), int64(2)\n",
      "memory usage: 36.4 KB\n",
      "None\n",
      "               age          bmi     children      expenses\n",
      "count  1003.000000  1003.000000  1003.000000   1003.000000\n",
      "mean     39.255234    30.511780     1.104686  13267.935817\n",
      "std      14.039105     6.013107     1.204619  12051.356547\n",
      "min      18.000000    15.960000     0.000000   1121.873900\n",
      "25%      27.000000    26.210000     0.000000   4780.839400\n",
      "50%      39.000000    30.200000     1.000000   9447.382400\n",
      "75%      51.000000    34.430000     2.000000  16840.667970\n",
      "max      64.000000    53.130000     5.000000  62592.873090\n",
      "age                 0\n",
      "bmi                 0\n",
      "children            0\n",
      "sex_male            0\n",
      "smoker_yes          0\n",
      "region_northwest    0\n",
      "region_southeast    0\n",
      "region_southwest    0\n",
      "expenses            0\n",
      "dtype: int64\n"
     ]
    }
   ],
   "source": [
    "train_data = pd.read_csv(\"artifacts/data_transformation/train.csv\")\n",
    "print(train_data.head())  # Print the first few rows of the dataframe\n",
    "print(train_data.info())  # Print the summary information about the dataframe\n",
    "print(train_data.describe())  # Print the summary statistics of numerical columns in the dataframe\n",
    "print(train_data.isnull().sum())  # Print the number of missing values in each column\n"
   ]
  },
  {
   "cell_type": "code",
   "execution_count": null,
   "metadata": {},
   "outputs": [],
   "source": []
  },
  {
   "cell_type": "code",
   "execution_count": null,
   "metadata": {},
   "outputs": [],
   "source": []
  },
  {
   "cell_type": "code",
   "execution_count": null,
   "metadata": {},
   "outputs": [],
   "source": []
  },
  {
   "cell_type": "code",
   "execution_count": null,
   "metadata": {},
   "outputs": [],
   "source": []
  }
 ],
 "metadata": {
  "kernelspec": {
   "display_name": "Python 3",
   "language": "python",
   "name": "python3"
  },
  "language_info": {
   "codemirror_mode": {
    "name": "ipython",
    "version": 3
   },
   "file_extension": ".py",
   "mimetype": "text/x-python",
   "name": "python",
   "nbconvert_exporter": "python",
   "pygments_lexer": "ipython3",
   "version": "3.9.18"
  }
 },
 "nbformat": 4,
 "nbformat_minor": 2
}
