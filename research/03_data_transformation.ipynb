{
 "cells": [
  {
   "cell_type": "code",
   "execution_count": 1,
   "metadata": {},
   "outputs": [],
   "source": [
    "import os"
   ]
  },
  {
   "cell_type": "code",
   "execution_count": 2,
   "metadata": {},
   "outputs": [
    {
     "data": {
      "text/plain": [
       "'c:\\\\Project\\\\Insurance-ml-Project\\\\research'"
      ]
     },
     "execution_count": 2,
     "metadata": {},
     "output_type": "execute_result"
    }
   ],
   "source": [
    "%pwd"
   ]
  },
  {
   "cell_type": "code",
   "execution_count": 3,
   "metadata": {},
   "outputs": [],
   "source": [
    "os.chdir(\"../\")\n"
   ]
  },
  {
   "cell_type": "code",
   "execution_count": 4,
   "metadata": {},
   "outputs": [
    {
     "data": {
      "text/plain": [
       "'c:\\\\Project\\\\Insurance-ml-Project'"
      ]
     },
     "execution_count": 4,
     "metadata": {},
     "output_type": "execute_result"
    }
   ],
   "source": [
    "%pwd"
   ]
  },
  {
   "cell_type": "code",
   "execution_count": 5,
   "metadata": {},
   "outputs": [],
   "source": [
    "from dataclasses import dataclass\n",
    "from pathlib import Path\n",
    "\n",
    "\n",
    "@dataclass(frozen=True)\n",
    "class DataTransformationConfig:\n",
    "    root_dir: Path\n",
    "    data_path: Path"
   ]
  },
  {
   "cell_type": "code",
   "execution_count": 6,
   "metadata": {},
   "outputs": [],
   "source": [
    "\n",
    "from src.mlProject.constants import *\n",
    "from src.mlProject.utils.common import read_yaml, create_directories"
   ]
  },
  {
   "cell_type": "code",
   "execution_count": 7,
   "metadata": {},
   "outputs": [],
   "source": [
    "class ConfigurationManager:\n",
    "    def __init__(\n",
    "        self,\n",
    "        config_filepath = CONFIG_FILE_PATH,\n",
    "        params_filepath = PARAMS_FILE_PATH,\n",
    "        schema_filepath = SCHEMA_FILE_PATH):\n",
    "\n",
    "        self.config = read_yaml(config_filepath)\n",
    "        self.params = read_yaml(params_filepath)\n",
    "        self.schema = read_yaml(schema_filepath)\n",
    "\n",
    "        create_directories([self.config.artifacts_root])\n",
    "\n",
    "    \n",
    "    def get_data_transformation_config(self) -> DataTransformationConfig:\n",
    "        config = self.config.data_transformation\n",
    "\n",
    "        create_directories([config.root_dir])\n",
    "\n",
    "        data_transformation_config = DataTransformationConfig(\n",
    "            root_dir=config.root_dir,\n",
    "            data_path=config.data_path,\n",
    "        )\n",
    "\n",
    "        return data_transformation_config"
   ]
  },
  {
   "cell_type": "code",
   "execution_count": 8,
   "metadata": {},
   "outputs": [],
   "source": [
    "import os\n",
    "from src.mlProject.logging import logger\n",
    "from sklearn.model_selection import train_test_split\n",
    "import pandas as pd\n",
    "from sklearn.preprocessing import OneHotEncoder\n",
    "import joblib\n",
    "import os"
   ]
  },
  {
   "cell_type": "code",
   "execution_count": 13,
   "metadata": {},
   "outputs": [
    {
     "name": "stdout",
     "output_type": "stream",
     "text": [
      "[2024-03-01 03:13:12,417: INFO: common: yaml file: config\\config.yaml loaded successfully]\n",
      "[2024-03-01 03:13:12,431: INFO: common: yaml file: params.yaml loaded successfully]\n",
      "[2024-03-01 03:13:12,440: INFO: common: yaml file: schema.yaml loaded successfully]\n",
      "[2024-03-01 03:13:12,440: INFO: common: created directory at: artifacts]\n"
     ]
    },
    {
     "name": "stderr",
     "output_type": "stream",
     "text": [
      "c:\\Project\\Insurance-ml-Project\\venv\\lib\\site-packages\\sklearn\\preprocessing\\_encoders.py:975: FutureWarning: `sparse` was renamed to `sparse_output` in version 1.2 and will be removed in 1.4. `sparse_output` is ignored unless you leave `sparse` to its default value.\n",
      "  warnings.warn(\n"
     ]
    }
   ],
   "source": [
    "import pandas as pd\n",
    "from sklearn.model_selection import train_test_split\n",
    "from sklearn.preprocessing import OneHotEncoder\n",
    "import joblib\n",
    "from pathlib import Path\n",
    "\n",
    "class DataTransformationConfig:\n",
    "    def __init__(self, root_dir: str, data_path: str, categorical_features: list):\n",
    "        self.root_dir = root_dir\n",
    "        self.data_path = data_path\n",
    "        self.categorical_features = categorical_features\n",
    "\n",
    "class DataTransformation:\n",
    "    def __init__(self, config):\n",
    "        self.config = config\n",
    "        \n",
    "    def train_test_spliting(self, categorical_features):\n",
    "        data_path = self.config.data_path\n",
    "        \n",
    "        # Load the data\n",
    "        data = pd.read_csv(data_path)\n",
    "\n",
    "        # Separate features and target variable\n",
    "        X = data.drop(columns=['expenses'])\n",
    "        y = data['expenses']\n",
    "\n",
    "        # One-hot encode categorical features\n",
    "        encoder = OneHotEncoder(sparse=False, handle_unknown='ignore')\n",
    "        X_encoded = pd.DataFrame(encoder.fit_transform(X[categorical_features]))\n",
    "        X_encoded.columns = encoder.get_feature_names_out(input_features=categorical_features)\n",
    "        X.drop(columns=categorical_features, inplace=True)\n",
    "        X = pd.concat([X, X_encoded], axis=1)\n",
    "\n",
    "        # Split the data into train and test sets\n",
    "        X_train, X_test, y_train, y_test = train_test_split(X, y, test_size=0.2, random_state=42)\n",
    "\n",
    "        # Add 'expenses' column back to train and test data\n",
    "        X_train['expenses'] = y_train\n",
    "        X_test['expenses'] = y_test\n",
    "\n",
    "        # Create the directory if it doesn't exist\n",
    "        data_transformation_dir = Path(self.config.root_dir) / 'artifacts' / 'data_transformation'\n",
    "        data_transformation_dir.mkdir(parents=True, exist_ok=True)\n",
    "\n",
    "        # Save the encoder inside data_transformation directory\n",
    "        encoder_path = data_transformation_dir / 'encoder.pkl'\n",
    "        joblib.dump(encoder, encoder_path)\n",
    "\n",
    "        # Save the transformed training and test data inside data_transformation directory\n",
    "        train_csv_path = data_transformation_dir / 'train.csv'\n",
    "        test_csv_path = data_transformation_dir / 'test.csv'\n",
    "        X_train.to_csv(train_csv_path, index=False)\n",
    "        X_test.to_csv(test_csv_path, index=False)\n",
    "\n",
    "CONFIG_FILE_PATH = \"full/path/to/config.yaml\"\n",
    "PARAMS_FILE_PATH = \"full/path/to/params.yaml\"\n",
    "SCHEMA_FILE_PATH = \"full/path/to/schema.yaml\"\n",
    "\n",
    "# Usage:\n",
    "try:\n",
    "    config = ConfigurationManager()\n",
    "    data_transformation_config = DataTransformationConfig(root_dir='c:\\\\Project\\\\Insurance-ml-Project', data_path='research/insurance.csv', categorical_features=['sex', 'smoker', 'region'])\n",
    "    data_transformation = DataTransformation(config=data_transformation_config)\n",
    "    data_transformation.train_test_spliting(data_transformation_config.categorical_features)\n",
    "except Exception as e:\n",
    "    raise e\n"
   ]
  },
  {
   "cell_type": "code",
   "execution_count": null,
   "metadata": {},
   "outputs": [],
   "source": []
  },
  {
   "cell_type": "code",
   "execution_count": null,
   "metadata": {},
   "outputs": [],
   "source": []
  },
  {
   "cell_type": "code",
   "execution_count": null,
   "metadata": {},
   "outputs": [],
   "source": []
  },
  {
   "cell_type": "code",
   "execution_count": null,
   "metadata": {},
   "outputs": [],
   "source": []
  }
 ],
 "metadata": {
  "kernelspec": {
   "display_name": "Python 3",
   "language": "python",
   "name": "python3"
  },
  "language_info": {
   "codemirror_mode": {
    "name": "ipython",
    "version": 3
   },
   "file_extension": ".py",
   "mimetype": "text/x-python",
   "name": "python",
   "nbconvert_exporter": "python",
   "pygments_lexer": "ipython3",
   "version": "3.8.0"
  }
 },
 "nbformat": 4,
 "nbformat_minor": 2
}
